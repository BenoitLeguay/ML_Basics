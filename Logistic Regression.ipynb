{
 "cells": [
  {
   "cell_type": "markdown",
   "metadata": {},
   "source": [
    "# Logistic Regression"
   ]
  },
  {
   "cell_type": "code",
   "execution_count": 47,
   "metadata": {},
   "outputs": [],
   "source": [
    "import numpy as np\n",
    "import matplotlib.pyplot as plt\n",
    "from copy import deepcopy"
   ]
  },
  {
   "cell_type": "markdown",
   "metadata": {},
   "source": [
    "**Firstly we define the sigmoid function $\\sigma$**\n",
    "$$\\sigma(x)=\\frac{1}{1+e^{-x}}$$"
   ]
  },
  {
   "cell_type": "code",
   "execution_count": 48,
   "metadata": {},
   "outputs": [],
   "source": [
    "def sigmoid(x):\n",
    "    return 1/(1+np.exp(-x))"
   ]
  },
  {
   "cell_type": "markdown",
   "metadata": {},
   "source": [
    "**We define hereunder our model $\\hat{y}$ with parameters $\\theta_0$ and $\\theta_1$**\n",
    "$$\\hat{y}_{\\theta}(x)=\\sigma(\\theta_0+\\theta_1*x_1+\\theta_2*x_2)$$"
   ]
  },
  {
   "cell_type": "code",
   "execution_count": 49,
   "metadata": {},
   "outputs": [],
   "source": [
    "def y_hat(x, theta):\n",
    "    return sigmoid(np.dot(x, theta)).ravel()"
   ]
  },
  {
   "cell_type": "markdown",
   "metadata": {},
   "source": [
    "**Then we go for the loss function, in this example we use the BCE**\n",
    "$$L(\\theta, x, y) = -\\frac{1}{N}\\sum_{i=1}^{N}[y_ilog(\\hat{y}_{\\theta}(x_i))+(1-y_i)log(1-\\hat{y}_{\\theta}(x))]$$\n",
    "$\\theta = [\\theta_0, \\theta_1, \\theta_2]$"
   ]
  },
  {
   "cell_type": "code",
   "execution_count": 50,
   "metadata": {},
   "outputs": [],
   "source": [
    "def y_hat_to_label(y_pred, threshold):\n",
    "    return (y_pred > threshold).astype(int)"
   ]
  },
  {
   "cell_type": "code",
   "execution_count": 51,
   "metadata": {},
   "outputs": [],
   "source": [
    "def loss(y, y_pred):\n",
    "    return 1/(len(y))*(-np.dot(y.T, np.log(y_pred)) - np.dot((1-y).T, np.log(1-y_pred)))"
   ]
  },
  {
   "cell_type": "markdown",
   "metadata": {},
   "source": [
    "**As we will use a gradient descent algorithm we define a function to compute thoise gradients**\n",
    "$$\\frac{\\partial L}{\\partial \\theta} = \\frac{1}{N}\\sum_{i=1}^{N}x_i(\\hat{y}_{\\theta}(x_i) - y_i)$$"
   ]
  },
  {
   "cell_type": "code",
   "execution_count": 52,
   "metadata": {},
   "outputs": [],
   "source": [
    "def gradients(y, x, theta):\n",
    "    return 1/(len(y)) * np.dot(x.T, (y_hat(x, theta) - y))"
   ]
  },
  {
   "cell_type": "markdown",
   "metadata": {},
   "source": [
    "**Defining our metrics**"
   ]
  },
  {
   "cell_type": "code",
   "execution_count": 53,
   "metadata": {},
   "outputs": [],
   "source": [
    "def confusion_matrix(pos_mask, neg_mask, y, y_pred):\n",
    "    TP = sum(y[pos_mask] == y_pred[pos_mask])\n",
    "    FN = sum(y[pos_mask] != y_pred[pos_mask])\n",
    "\n",
    "    TN = sum(y[neg_mask] == y_pred[neg_mask])\n",
    "    FP = sum(y[neg_mask] != y_pred[neg_mask])\n",
    "    \n",
    "    return TP, FN, TN, FP\n",
    "\n",
    "def precision(TP, FP):\n",
    "    return TP/(TP + FP)\n",
    "\n",
    "def recall(TP, FN):\n",
    "    return TP/(TP + FN)\n",
    "\n",
    "def f1_score(precision, recall):\n",
    "    return 2*(precision*recall)/(precision+recall)"
   ]
  },
  {
   "cell_type": "markdown",
   "metadata": {},
   "source": [
    "**Finally we pack it up and create a train function**"
   ]
  },
  {
   "cell_type": "code",
   "execution_count": 54,
   "metadata": {},
   "outputs": [],
   "source": [
    "def train(x, y, theta, learning_rate, condition_threshold):\n",
    "    \n",
    "    pos_mask = y == 1\n",
    "    neg_mask = y == 0\n",
    "    precision_history = list()\n",
    "    recall_history = list()\n",
    "    f1_history = list()\n",
    "    \n",
    "    loss_history = list()\n",
    "    last_loss = np.inf\n",
    "    \n",
    "    condition = True\n",
    "    step = 0\n",
    "    threshold = .5\n",
    "    \n",
    "    while condition:\n",
    "        y_pred = y_hat(x, theta)\n",
    "        curr_loss = loss(y, y_pred)\n",
    "        \n",
    "        grad_theta = gradients(y, x, theta).reshape(theta.shape[0], 1)\n",
    "        theta -= grad_theta * learning_rate \n",
    "        \n",
    "        condition = np.abs(curr_loss - last_loss) > condition_threshold\n",
    "        \n",
    "        loss_history.append(curr_loss)\n",
    "        \n",
    "        if True:\n",
    "        \n",
    "            TP, FN, TN, FP = confusion_matrix(pos_mask, neg_mask, y, y_hat_to_label(y_pred, threshold))\n",
    "            precision_history.append(precision(TP, FP))\n",
    "            recall_history.append(recall(TP, FN))\n",
    "            f1_history.append(f1_score(precision_history[-1], recall_history[-1]))\n",
    "\n",
    "        last_loss = curr_loss\n",
    "        \n",
    "        step += 1\n",
    "        if step % 30 == 0:\n",
    "            pass\n",
    "    \n",
    "    _, ax = plt.subplots(2, 2, figsize=(20, 8))\n",
    "    ax[0][0].plot(range(len(precision_history)), precision_history)\n",
    "    ax[0][0].set_xlabel('step')\n",
    "    ax[0][0].set_ylabel('Precision')\n",
    "    ax[0][1].plot(range(len(recall_history)), recall_history)\n",
    "    ax[0][1].set_xlabel('step')\n",
    "    ax[0][1].set_ylabel('Recall')\n",
    "    ax[1][0].plot(range(len(f1_history)), f1_history)\n",
    "    ax[1][0].set_xlabel('step')\n",
    "    ax[1][0].set_ylabel('F1')\n",
    "    ax[1][1].plot(range(len(loss_history)), loss_history)\n",
    "    ax[1][1].set_xlabel('step')\n",
    "    ax[1][1].set_ylabel('Loss')\n",
    "    plt.show()\n",
    "    \n",
    "    \n",
    "    \n",
    "    return np.array(loss_history)"
   ]
  },
  {
   "cell_type": "markdown",
   "metadata": {},
   "source": [
    "**Create dataset**  \n",
    "*We create a positive-semidefinite matrix randomly to have a new covariance each time. \n",
    "A random mean is generated also.*"
   ]
  },
  {
   "cell_type": "code",
   "execution_count": 64,
   "metadata": {},
   "outputs": [
    {
     "data": {
      "image/png": "[encoded data removed]",
      "text/plain": [
       "<Figure size 432x288 with 1 Axes>"
      ]
     },
     "metadata": {
      "needs_background": "light"
     },
     "output_type": "display_data"
    }
   ],
   "source": [
    "A = np.random.rand(2, 2)\n",
    "B = np.random.rand(2, 2)\n",
    "covA = np.dot(A, A.transpose())\n",
    "covB = np.dot(B, B.transpose())\n",
    "meanA = np.random.rand(2)\n",
    "meanB = np.random.rand(2)+2\n",
    "\n",
    "train_size = 10000\n",
    "\n",
    "dsetA = np.random.multivariate_normal(mean=meanA, cov=covA, size=(train_size, 1)).reshape(train_size, 2)\n",
    "dsetB = np.random.multivariate_normal(mean=meanB, cov=covB, size=(train_size, 1)).reshape(train_size, 2)\n",
    "dsetA = np.hstack((dsetA, np.zeros((dsetA.shape[0], 1))))\n",
    "dsetB = np.hstack((dsetB, np.ones((dsetA.shape[0], 1))))\n",
    "\n",
    "xA, yA = dsetA[:, :2], dsetA[:, 2]\n",
    "xB, yB = dsetB[:, :2], dsetB[:, 2]\n",
    "plt.scatter(xA[:, 0], xA[:, 1])\n",
    "plt.scatter(xB[:, 0], xB[:, 1])\n",
    "plt.axis('equal')\n",
    "plt.xlabel('X')\n",
    "plt.ylabel('Y')\n",
    "plt.show()"
   ]
  },
  {
   "cell_type": "code",
   "execution_count": 65,
   "metadata": {},
   "outputs": [],
   "source": [
    "dset = np.concatenate((dsetA, dsetB), axis=0)\n",
    "np.random.shuffle(dset)\n",
    "x, y = dset[:, :2], dset[:, 2]\n",
    "x = np.hstack((np.ones((x.shape[0], 1)), x))"
   ]
  },
  {
   "cell_type": "markdown",
   "metadata": {},
   "source": [
    "**Initialize weight**  \n",
    "We initialize our weight $\\theta$ with a gaussian prior"
   ]
  },
  {
   "cell_type": "code",
   "execution_count": null,
   "metadata": {},
   "outputs": [],
   "source": [
    "theta = np.random.normal(size=(3, 1))\n",
    "learning_rate = 1e-2"
   ]
  },
  {
   "cell_type": "markdown",
   "metadata": {},
   "source": [
    "### TRAIN"
   ]
  },
  {
   "cell_type": "code",
   "execution_count": 22,
   "metadata": {
    "scrolled": false
   },
   "outputs": [
    {
     "data": {
      "image/png": "[encoded data removed]",
      "text/plain": [
       "<Figure size 1440x576 with 4 Axes>"
      ]
     },
     "metadata": {
      "needs_background": "light"
     },
     "output_type": "display_data"
    }
   ],
   "source": [
    "condition_threshold = 1e-4\n",
    "loss_history = train(x, y, theta, learning_rate, condition_threshold)"
   ]
  },
  {
   "cell_type": "markdown",
   "metadata": {},
   "source": [
    "### TEST"
   ]
  },
  {
   "cell_type": "code",
   "execution_count": 23,
   "metadata": {},
   "outputs": [],
   "source": [
    "test_size = 50\n",
    "dsetA_test = np.random.multivariate_normal(mean=meanA, cov=covA, size=(test_size, 1)).reshape(test_size, 2)\n",
    "dsetB_test = np.random.multivariate_normal(mean=meanB, cov=covB, size=(test_size, 1)).reshape(test_size, 2)\n",
    "dsetA_test = np.hstack((dsetA_test, np.zeros((dsetA_test.shape[0], 1))))\n",
    "dsetB_test = np.hstack((dsetB_test, np.ones((dsetB_test.shape[0], 1))))\n",
    "\n",
    "dset_test = np.concatenate((dsetA_test, dsetB_test), axis=0)\n",
    "np.random.shuffle(dset_test)\n",
    "x_test, y_test = dset_test[:, :2], dset_test[:, 2].astype(int)\n",
    "x_test = np.hstack((np.ones((x_test.shape[0], 1)), x_test))"
   ]
  },
  {
   "cell_type": "code",
   "execution_count": 24,
   "metadata": {},
   "outputs": [],
   "source": [
    "y_pred_test = y_hat(x_test, theta)\n",
    "pos_mask = y_test == 1\n",
    "neg_mask = y_test == 0"
   ]
  },
  {
   "cell_type": "code",
   "execution_count": 25,
   "metadata": {},
   "outputs": [
    {
     "name": "stdout",
     "output_type": "stream",
     "text": [
      "0.8333333333333334\n",
      "0.9\n",
      "0.8653846153846153\n"
     ]
    }
   ],
   "source": [
    "TP, FN, TN, FP = confusion_matrix(pos_mask, neg_mask, y_test, y_hat_to_label(y_pred_test, .5))\n",
    "p = precision(TP, FP)\n",
    "r = recall(TP, FN)\n",
    "print(p)\n",
    "print(r)\n",
    "print(f1_score(p, r))"
   ]
  },
  {
   "cell_type": "markdown",
   "metadata": {},
   "source": [
    "**ROC**"
   ]
  },
  {
   "cell_type": "code",
   "execution_count": 26,
   "metadata": {},
   "outputs": [],
   "source": [
    "def ROC(y, y_pred, threshold, pos_mask, neg_mask):\n",
    "    TP, FN, TN, FP = confusion_matrix(pos_mask, neg_mask, y, y_hat_to_label(y_pred, threshold))\n",
    "    return TP/(TP+FN), FP/(FP+TN)"
   ]
  },
  {
   "cell_type": "code",
   "execution_count": 40,
   "metadata": {},
   "outputs": [],
   "source": [
    "tprs = list()\n",
    "fprs = list()\n",
    "for threshold_ in np.arange(0.0, 1.0, .0001):\n",
    "    tpr, fpr = ROC(y_test, y_pred_test, threshold_, pos_mask, neg_mask)\n",
    "    tprs.append(tpr)\n",
    "    fprs.append(fpr)"
   ]
  },
  {
   "cell_type": "code",
   "execution_count": 41,
   "metadata": {},
   "outputs": [
    {
     "data": {
      "text/plain": [
       "[<matplotlib.lines.Line2D at 0x7fef981cef50>]"
      ]
     },
     "execution_count": 41,
     "metadata": {},
     "output_type": "execute_result"
    },
    {
     "data": {
      "image/png": "[encoded data removed]",
      "text/plain": [
       "<Figure size 432x288 with 1 Axes>"
      ]
     },
     "metadata": {
      "needs_background": "light"
     },
     "output_type": "display_data"
    }
   ],
   "source": [
    "plt.plot(fprs, tprs)"
   ]
  },
  {
   "cell_type": "code",
   "execution_count": null,
   "metadata": {},
   "outputs": [],
   "source": []
  }
 ],
 "metadata": {
  "kernelspec": {
   "display_name": "Python 3",
   "language": "python",
   "name": "python3"
  },
  "language_info": {
   "codemirror_mode": {
    "name": "ipython",
    "version": 3
   },
   "file_extension": ".py",
   "mimetype": "text/x-python",
   "name": "python",
   "nbconvert_exporter": "python",
   "pygments_lexer": "ipython3",
   "version": "3.7.6"
  }
 },
 "nbformat": 4,
 "nbformat_minor": 4
}
